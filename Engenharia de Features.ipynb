{
 "cells": [
  {
   "cell_type": "markdown",
   "metadata": {
    "colab_type": "text",
    "id": "Q6DyvOjyiMbx"
   },
   "source": [
    "## Sobre a Base de Dados: Diabetes¹\n",
    "A base possui dados gerais e resultado exames de pacientes mulheres com pelo menos 21 anos de herança indiana pima.\n",
    "\n",
    "Atributos\n",
    "- Número de gravidezes\n",
    "- Concentração de glicose plasma a 2 horas em um teste oral de tolerância à glicose\n",
    "- Pressão sanguínea diastólica (mm Hg)\n",
    "- Espessura da dobra da pele do tríceps\n",
    "- 2-Horas de insulina sérica (mu U/ml)\n",
    "- Índice de massa corporal (peso em kg ➗ (altura em m)²)\n",
    "- Função de pedigree da diabetes\n",
    "- Idade\n",
    "- Label (0 or 1)\n",
    "---\n",
    "¹ https://www.kaggle.com/uciml/pima-indians-diabetes-database\n"
   ]
  },
  {
   "cell_type": "markdown",
   "metadata": {
    "colab_type": "text",
    "id": "KQpwLfdSjAdz"
   },
   "source": [
    "## Tarefas\n",
    "- Caso ainda não tenha, cadastre-se no site kaggle.com\n",
    "- Faça o download do dataset: https://www.kaggle.com/uciml/pima-indians-diabetes-database\n",
    "---"
   ]
  },
  {
   "cell_type": "markdown",
   "metadata": {
    "colab_type": "text",
    "id": "PB0h0yu4uaz4"
   },
   "source": [
    "## Lendo arquivo externo"
   ]
  },
  {
   "cell_type": "code",
   "execution_count": 0,
   "metadata": {
    "colab": {},
    "colab_type": "code",
    "id": "OLct082CuZ5I"
   },
   "outputs": [],
   "source": [
    "# Biblioteca para operações em arquivos locais\n",
    "from google.colab import files\n",
    "uploaded = files.upload()"
   ]
  },
  {
   "cell_type": "code",
   "execution_count": 0,
   "metadata": {
    "colab": {},
    "colab_type": "code",
    "id": "X9OEJFa5uiJp"
   },
   "outputs": [],
   "source": [
    "import pandas as pd\n",
    "df = pd.read_csv('diabetes.csv')\n",
    "df.head()"
   ]
  },
  {
   "cell_type": "code",
   "execution_count": 0,
   "metadata": {
    "colab": {},
    "colab_type": "code",
    "id": "empXX4cMBb2R"
   },
   "outputs": [],
   "source": [
    "# Extrai features e rótulos do dataframe\n",
    "X = df.drop('label', axis=1).as_matrix()\n",
    "y = df['label'].as_matrix()"
   ]
  },
  {
   "cell_type": "markdown",
   "metadata": {
    "colab_type": "text",
    "id": "aR0UC2_N-x7z"
   },
   "source": [
    "## Engenharia de Features"
   ]
  },
  {
   "cell_type": "markdown",
   "metadata": {
    "colab_type": "text",
    "id": "OUJbB9UnA8oC"
   },
   "source": [
    "### Normalização"
   ]
  },
  {
   "cell_type": "code",
   "execution_count": 0,
   "metadata": {
    "colab": {
     "base_uri": "https://localhost:8080/",
     "height": 243
    },
    "colab_type": "code",
    "executionInfo": {
     "elapsed": 724,
     "status": "ok",
     "timestamp": 1551926426631,
     "user": {
      "displayName": "Bruno Laporais Pereira",
      "photoUrl": "https://lh3.googleusercontent.com/-3Pi0I742wJk/AAAAAAAAAAI/AAAAAAAACPU/i2_yyZ3gVRY/s64/photo.jpg",
      "userId": "07218760274576944986"
     },
     "user_tz": 180
    },
    "id": "32Ki0b7x84oj",
    "outputId": "c6771dca-7363-4f07-d212-cef527b3d766"
   },
   "outputs": [
    {
     "data": {
      "text/plain": [
       "array([[0.35294118, 0.74371859, 0.59016393, ..., 0.50074516, 0.23441503,\n",
       "        0.48333333],\n",
       "       [0.05882353, 0.42713568, 0.54098361, ..., 0.39642325, 0.11656704,\n",
       "        0.16666667],\n",
       "       [0.47058824, 0.91959799, 0.52459016, ..., 0.34724292, 0.25362938,\n",
       "        0.18333333],\n",
       "       ...,\n",
       "       [0.29411765, 0.6080402 , 0.59016393, ..., 0.390462  , 0.07130658,\n",
       "        0.15      ],\n",
       "       [0.05882353, 0.63316583, 0.49180328, ..., 0.4485842 , 0.11571307,\n",
       "        0.43333333],\n",
       "       [0.05882353, 0.46733668, 0.57377049, ..., 0.45305514, 0.10119556,\n",
       "        0.03333333]])"
      ]
     },
     "execution_count": 4,
     "metadata": {
      "tags": []
     },
     "output_type": "execute_result"
    }
   ],
   "source": [
    "# Classe para normalizar os valores entre 0 e 1\n",
    "from sklearn.preprocessing import MinMaxScaler\n",
    "\n",
    "# Aplica transformação de MinMax nas features\n",
    "X2 = MinMaxScaler().fit_transform(X)\n",
    "X2"
   ]
  },
  {
   "cell_type": "markdown",
   "metadata": {
    "colab_type": "text",
    "id": "G3CCwFQcBEYJ"
   },
   "source": [
    "### Criação de features polinomiais"
   ]
  },
  {
   "cell_type": "code",
   "execution_count": 0,
   "metadata": {
    "colab": {
     "base_uri": "https://localhost:8080/",
     "height": 278
    },
    "colab_type": "code",
    "executionInfo": {
     "elapsed": 718,
     "status": "ok",
     "timestamp": 1551928003195,
     "user": {
      "displayName": "Bruno Laporais Pereira",
      "photoUrl": "https://lh3.googleusercontent.com/-3Pi0I742wJk/AAAAAAAAAAI/AAAAAAAACPU/i2_yyZ3gVRY/s64/photo.jpg",
      "userId": "07218760274576944986"
     },
     "user_tz": 180
    },
    "id": "0GS3PD8MBMFP",
    "outputId": "16d0c2de-e86b-4cea-aaff-e30df73bb845"
   },
   "outputs": [
    {
     "name": "stdout",
     "output_type": "stream",
     "text": [
      "Tamanho da tabela original: (Linhas, Colunas) (768, 8)\n",
      "Tamanho da tabela tratada: (Linhas, Colunas) (768, 164)\n"
     ]
    },
    {
     "data": {
      "text/plain": [
       "array([[6.0000000e+00, 1.4800000e+02, 7.2000000e+01, ..., 1.9656450e+01,\n",
       "        1.5675000e+03, 1.2500000e+05],\n",
       "       [1.0000000e+00, 8.5000000e+01, 6.6000000e+01, ..., 3.8192310e+00,\n",
       "        3.3731100e+02, 2.9791000e+04],\n",
       "       [8.0000000e+00, 1.8300000e+02, 6.4000000e+01, ..., 1.4450688e+01,\n",
       "        6.8812800e+02, 3.2768000e+04],\n",
       "       ...,\n",
       "       [5.0000000e+00, 1.2100000e+02, 7.2000000e+01, ..., 1.8007500e+00,\n",
       "        2.2050000e+02, 2.7000000e+04],\n",
       "       [1.0000000e+00, 1.2600000e+02, 6.0000000e+01, ..., 5.7246470e+00,\n",
       "        7.7094100e+02, 1.0382300e+05],\n",
       "       [1.0000000e+00, 9.3000000e+01, 7.0000000e+01, ..., 2.2821750e+00,\n",
       "        1.6663500e+02, 1.2167000e+04]])"
      ]
     },
     "execution_count": 18,
     "metadata": {
      "tags": []
     },
     "output_type": "execute_result"
    }
   ],
   "source": [
    "# Essa classe é utilizada para geração de features usando polinomios (x², x³)\n",
    "from sklearn.preprocessing import PolynomialFeatures\n",
    "\n",
    "# Cria features polinomiais\n",
    "model = PolynomialFeatures(degree=3, include_bias=False)\n",
    "X2 = model.fit_transform(X)\n",
    "print('Tamanho da tabela original: (Linhas, Colunas) {}'.format(X.shape))\n",
    "print('Tamanho da tabela tratada: (Linhas, Colunas) {}'.format(X2.shape))\n",
    "X2"
   ]
  },
  {
   "cell_type": "code",
   "execution_count": 0,
   "metadata": {
    "colab": {},
    "colab_type": "code",
    "id": "R-jRvoO2CXpn"
   },
   "outputs": [],
   "source": [
    "# Perceba o número de combinações que foram geradas\n",
    "model.get_feature_names(df.columns)"
   ]
  },
  {
   "cell_type": "markdown",
   "metadata": {
    "colab_type": "text",
    "id": "6CkUEK7uL8Kj"
   },
   "source": [
    "### Exemplo simplificado do uso de features polinomiais"
   ]
  },
  {
   "cell_type": "code",
   "execution_count": 0,
   "metadata": {
    "colab": {},
    "colab_type": "code",
    "id": "iMk0DEaSjx-u"
   },
   "outputs": [],
   "source": [
    "%matplotlib inline\n",
    "import numpy as np\n",
    "import matplotlib.pyplot as plt\n",
    "\n",
    "x = np.array([1, 2, 3, 4, 5])\n",
    "y = np.array([4, 2, 1, 3, 7])\n",
    "plt.scatter(x, y);"
   ]
  },
  {
   "cell_type": "code",
   "execution_count": 0,
   "metadata": {
    "colab": {},
    "colab_type": "code",
    "id": "a1aCrZ3sj22g"
   },
   "outputs": [],
   "source": [
    "# Nesse nosso conjunto de dados sintético, vamos fazer um experimento simples\n",
    "\n",
    "# Modelo de regreção\n",
    "from sklearn.linear_model import LinearRegression\n",
    "\n",
    "# Preparando dados\n",
    "X = x.reshape(-1, 1)\n",
    "\n",
    "# Instanciação e treinamento do modelo\n",
    "model = LinearRegression().fit(X, y)\n",
    "\n",
    "# Prediz os valores\n",
    "yfit = model.predict(X)\n",
    "\n",
    "# Gráfico\n",
    "plt.scatter(x, y)\n",
    "plt.plot(x, yfit);"
   ]
  },
  {
   "cell_type": "code",
   "execution_count": 0,
   "metadata": {
    "colab": {},
    "colab_type": "code",
    "id": "4VTWwHaQksU4"
   },
   "outputs": [],
   "source": [
    "# Essa classe é utilizada para geração de features usando polinomios (x², x³)\n",
    "from sklearn.preprocessing import PolynomialFeatures\n",
    "\n",
    "# Cria instância para tratamento das features\n",
    "poly = PolynomialFeatures(degree=3, include_bias=False)\n",
    "\n",
    "# Aplica a transformação e cria as features polinomiais\n",
    "X2 = poly.fit_transform(X)\n",
    "print(X2)"
   ]
  },
  {
   "cell_type": "code",
   "execution_count": 0,
   "metadata": {
    "colab": {},
    "colab_type": "code",
    "id": "qT1IulC0lFyg"
   },
   "outputs": [],
   "source": [
    "# Retreinando o Modelo\n",
    "model = LinearRegression().fit(X2, y)\n",
    "\n",
    "# Prediz os valores\n",
    "yfit = model.predict(X2)\n",
    "\n",
    "# Gráfico\n",
    "plt.scatter(x, y)\n",
    "plt.plot(x, yfit);"
   ]
  },
  {
   "cell_type": "markdown",
   "metadata": {
    "colab_type": "text",
    "id": "tAyugFBuSE-P"
   },
   "source": [
    "### Exemplo de exploração das features"
   ]
  },
  {
   "cell_type": "code",
   "execution_count": 0,
   "metadata": {
    "colab": {
     "base_uri": "https://localhost:8080/",
     "height": 300
    },
    "colab_type": "code",
    "executionInfo": {
     "elapsed": 728,
     "status": "ok",
     "timestamp": 1551930881039,
     "user": {
      "displayName": "Bruno Laporais Pereira",
      "photoUrl": "https://lh3.googleusercontent.com/-3Pi0I742wJk/AAAAAAAAAAI/AAAAAAAACPU/i2_yyZ3gVRY/s64/photo.jpg",
      "userId": "07218760274576944986"
     },
     "user_tz": 180
    },
    "id": "xX5dr2rQSXdq",
    "outputId": "be72100d-721b-442c-8030-17970a818156"
   },
   "outputs": [
    {
     "data": {
      "text/html": [
       "<div>\n",
       "<style scoped>\n",
       "    .dataframe tbody tr th:only-of-type {\n",
       "        vertical-align: middle;\n",
       "    }\n",
       "\n",
       "    .dataframe tbody tr th {\n",
       "        vertical-align: top;\n",
       "    }\n",
       "\n",
       "    .dataframe thead th {\n",
       "        text-align: right;\n",
       "    }\n",
       "</style>\n",
       "<table border=\"1\" class=\"dataframe\">\n",
       "  <thead>\n",
       "    <tr style=\"text-align: right;\">\n",
       "      <th></th>\n",
       "      <th>numero_gravidezes</th>\n",
       "      <th>concentracao_glicose</th>\n",
       "      <th>pressao_sanguinea</th>\n",
       "      <th>espessura_triceps</th>\n",
       "      <th>insulina_serica</th>\n",
       "      <th>massa_corporal</th>\n",
       "      <th>funcao_diabetes</th>\n",
       "      <th>idade</th>\n",
       "      <th>label</th>\n",
       "    </tr>\n",
       "  </thead>\n",
       "  <tbody>\n",
       "    <tr>\n",
       "      <th>count</th>\n",
       "      <td>768.000000</td>\n",
       "      <td>768.000000</td>\n",
       "      <td>768.000000</td>\n",
       "      <td>768.000000</td>\n",
       "      <td>768.000000</td>\n",
       "      <td>768.000000</td>\n",
       "      <td>768.000000</td>\n",
       "      <td>768.000000</td>\n",
       "      <td>768.000000</td>\n",
       "    </tr>\n",
       "    <tr>\n",
       "      <th>mean</th>\n",
       "      <td>3.845052</td>\n",
       "      <td>120.894531</td>\n",
       "      <td>69.105469</td>\n",
       "      <td>20.536458</td>\n",
       "      <td>79.799479</td>\n",
       "      <td>31.992578</td>\n",
       "      <td>0.471876</td>\n",
       "      <td>33.240885</td>\n",
       "      <td>0.348958</td>\n",
       "    </tr>\n",
       "    <tr>\n",
       "      <th>std</th>\n",
       "      <td>3.369578</td>\n",
       "      <td>31.972618</td>\n",
       "      <td>19.355807</td>\n",
       "      <td>15.952218</td>\n",
       "      <td>115.244002</td>\n",
       "      <td>7.884160</td>\n",
       "      <td>0.331329</td>\n",
       "      <td>11.760232</td>\n",
       "      <td>0.476951</td>\n",
       "    </tr>\n",
       "    <tr>\n",
       "      <th>min</th>\n",
       "      <td>0.000000</td>\n",
       "      <td>0.000000</td>\n",
       "      <td>0.000000</td>\n",
       "      <td>0.000000</td>\n",
       "      <td>0.000000</td>\n",
       "      <td>0.000000</td>\n",
       "      <td>0.078000</td>\n",
       "      <td>21.000000</td>\n",
       "      <td>0.000000</td>\n",
       "    </tr>\n",
       "    <tr>\n",
       "      <th>25%</th>\n",
       "      <td>1.000000</td>\n",
       "      <td>99.000000</td>\n",
       "      <td>62.000000</td>\n",
       "      <td>0.000000</td>\n",
       "      <td>0.000000</td>\n",
       "      <td>27.300000</td>\n",
       "      <td>0.243750</td>\n",
       "      <td>24.000000</td>\n",
       "      <td>0.000000</td>\n",
       "    </tr>\n",
       "    <tr>\n",
       "      <th>50%</th>\n",
       "      <td>3.000000</td>\n",
       "      <td>117.000000</td>\n",
       "      <td>72.000000</td>\n",
       "      <td>23.000000</td>\n",
       "      <td>30.500000</td>\n",
       "      <td>32.000000</td>\n",
       "      <td>0.372500</td>\n",
       "      <td>29.000000</td>\n",
       "      <td>0.000000</td>\n",
       "    </tr>\n",
       "    <tr>\n",
       "      <th>75%</th>\n",
       "      <td>6.000000</td>\n",
       "      <td>140.250000</td>\n",
       "      <td>80.000000</td>\n",
       "      <td>32.000000</td>\n",
       "      <td>127.250000</td>\n",
       "      <td>36.600000</td>\n",
       "      <td>0.626250</td>\n",
       "      <td>41.000000</td>\n",
       "      <td>1.000000</td>\n",
       "    </tr>\n",
       "    <tr>\n",
       "      <th>max</th>\n",
       "      <td>17.000000</td>\n",
       "      <td>199.000000</td>\n",
       "      <td>122.000000</td>\n",
       "      <td>99.000000</td>\n",
       "      <td>846.000000</td>\n",
       "      <td>67.100000</td>\n",
       "      <td>2.420000</td>\n",
       "      <td>81.000000</td>\n",
       "      <td>1.000000</td>\n",
       "    </tr>\n",
       "  </tbody>\n",
       "</table>\n",
       "</div>"
      ],
      "text/plain": [
       "       numero_gravidezes  concentracao_glicose  pressao_sanguinea  \\\n",
       "count         768.000000            768.000000         768.000000   \n",
       "mean            3.845052            120.894531          69.105469   \n",
       "std             3.369578             31.972618          19.355807   \n",
       "min             0.000000              0.000000           0.000000   \n",
       "25%             1.000000             99.000000          62.000000   \n",
       "50%             3.000000            117.000000          72.000000   \n",
       "75%             6.000000            140.250000          80.000000   \n",
       "max            17.000000            199.000000         122.000000   \n",
       "\n",
       "       espessura_triceps  insulina_serica  massa_corporal  funcao_diabetes  \\\n",
       "count         768.000000       768.000000      768.000000       768.000000   \n",
       "mean           20.536458        79.799479       31.992578         0.471876   \n",
       "std            15.952218       115.244002        7.884160         0.331329   \n",
       "min             0.000000         0.000000        0.000000         0.078000   \n",
       "25%             0.000000         0.000000       27.300000         0.243750   \n",
       "50%            23.000000        30.500000       32.000000         0.372500   \n",
       "75%            32.000000       127.250000       36.600000         0.626250   \n",
       "max            99.000000       846.000000       67.100000         2.420000   \n",
       "\n",
       "            idade       label  \n",
       "count  768.000000  768.000000  \n",
       "mean    33.240885    0.348958  \n",
       "std     11.760232    0.476951  \n",
       "min     21.000000    0.000000  \n",
       "25%     24.000000    0.000000  \n",
       "50%     29.000000    0.000000  \n",
       "75%     41.000000    1.000000  \n",
       "max     81.000000    1.000000  "
      ]
     },
     "execution_count": 24,
     "metadata": {
      "tags": []
     },
     "output_type": "execute_result"
    }
   ],
   "source": [
    "df.describe()"
   ]
  },
  {
   "cell_type": "markdown",
   "metadata": {
    "colab_type": "text",
    "id": "mBbpiBg0S7wm"
   },
   "source": [
    "#### Será que todos esses valores fazem sentido?\n",
    "\n",
    "Por exemplo, com base nas informações fornecidas para a pressão arterial em adultos no wikipedia, qualquer pressão arterial abaixo de 60 é considerada hipotensão que precisa ser tratada imediatamente, pois indica que não há sangue suficiente para atingir os órgãos da pessoa, a pessoa é considerada em \"choque\". Assumindo que estas são mulheres saudáveis e normais que atualmente não sofrem de hipotensão ou estão no pronto-socorro sendo tratadas de hipotensão e estão acordadas no momento da coleta de dados, os valores de 0 são claramente inválidos."
   ]
  },
  {
   "cell_type": "code",
   "execution_count": 0,
   "metadata": {
    "colab": {
     "base_uri": "https://localhost:8080/",
     "height": 121
    },
    "colab_type": "code",
    "executionInfo": {
     "elapsed": 711,
     "status": "ok",
     "timestamp": 1551931435863,
     "user": {
      "displayName": "Bruno Laporais Pereira",
      "photoUrl": "https://lh3.googleusercontent.com/-3Pi0I742wJk/AAAAAAAAAAI/AAAAAAAACPU/i2_yyZ3gVRY/s64/photo.jpg",
      "userId": "07218760274576944986"
     },
     "user_tz": 180
    },
    "id": "AEtfr7twSf_C",
    "outputId": "f757e5fe-b581-439d-9ab5-14236e41f188"
   },
   "outputs": [
    {
     "name": "stdout",
     "output_type": "stream",
     "text": [
      "35\n",
      "[7, 15, 49, 60, 78, 81, 172, 193, 222, 261, 266, 269, 300, 332, 336, 347, 357, 426, 430, 435, 453, 468, 484, 494, 522, 533, 535, 589, 601, 604, 619, 643, 697, 703, 706]\n",
      "label\n",
      "0    19\n",
      "1    16\n",
      "Name: idade, dtype: int64\n"
     ]
    }
   ],
   "source": [
    "print(df[df['pressao_sanguinea'] == 0].shape[0])\n",
    "print(df[df['pressao_sanguinea'] == 0].index.tolist())\n",
    "print(df[df['pressao_sanguinea'] == 0].groupby('label')['idade'].count())"
   ]
  },
  {
   "cell_type": "markdown",
   "metadata": {
    "colab_type": "text",
    "id": "JoEFO1qjVMeE"
   },
   "source": [
    "Algumas possíveis soluções são:\n",
    "- Remover os registros com esse erro\n",
    "- Ignorar a coluna\n",
    "- Inserir a média dos valores nos resultados faltantes"
   ]
  }
 ],
 "metadata": {
  "colab": {
   "collapsed_sections": [],
   "name": "3 - Engenharia de Features.ipynb",
   "provenance": [],
   "version": "0.3.2"
  },
  "kernelspec": {
   "display_name": "Python 3",
   "language": "python",
   "name": "python3"
  },
  "language_info": {
   "codemirror_mode": {
    "name": "ipython",
    "version": 3
   },
   "file_extension": ".py",
   "mimetype": "text/x-python",
   "name": "python",
   "nbconvert_exporter": "python",
   "pygments_lexer": "ipython3",
   "version": "3.7.3"
  }
 },
 "nbformat": 4,
 "nbformat_minor": 1
}
