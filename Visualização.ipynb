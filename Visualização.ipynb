{
 "cells": [
  {
   "cell_type": "markdown",
   "metadata": {
    "colab_type": "text",
    "id": "qP2dRQGI4aBx"
   },
   "source": [
    "# Visualização de Dados usando Python\n",
    "\n",
    "Uma das técnicas mais importantes aplicadas em aprendizado de máquina e estatística em geral. Permite capturar comportamentos e entender melhor os dados que estão sendo processados.\n",
    "\n",
    "**Referência:** https://machinelearningmastery.com/data-visualization-methods-in-python/"
   ]
  },
  {
   "cell_type": "markdown",
   "metadata": {
    "colab_type": "text",
    "id": "dAbY6Gs84WU-"
   },
   "source": [
    "## Matplotlib\n",
    "É uma das bibliotecas em python mais famosas para geração de gráficos em geral."
   ]
  },
  {
   "cell_type": "code",
   "execution_count": 1,
   "metadata": {
    "colab": {},
    "colab_type": "code",
    "id": "1VDO1tqw5Ofk"
   },
   "outputs": [],
   "source": [
    "from matplotlib import pyplot"
   ]
  },
  {
   "cell_type": "markdown",
   "metadata": {
    "colab_type": "text",
    "id": "e66al-oN5Q1g"
   },
   "source": [
    "Existe uma convenção em que normalmente se relacione a biblioteca à um nome mais curto \"plt\""
   ]
  },
  {
   "cell_type": "code",
   "execution_count": 2,
   "metadata": {
    "colab": {},
    "colab_type": "code",
    "id": "5zaH2UXv5hiZ"
   },
   "outputs": [],
   "source": [
    "from matplotlib import pyplot as plt"
   ]
  },
  {
   "cell_type": "markdown",
   "metadata": {
    "colab_type": "text",
    "id": "vPZhsfof5yS2"
   },
   "source": [
    "Para utilização do recurso neste ambiente de desenvolvimento (colab ou jupyter notebook), é importante executar o seguinte comando."
   ]
  },
  {
   "cell_type": "code",
   "execution_count": 3,
   "metadata": {
    "colab": {},
    "colab_type": "code",
    "id": "cUMFiOo-54i-"
   },
   "outputs": [],
   "source": [
    "%matplotlib inline"
   ]
  },
  {
   "cell_type": "markdown",
   "metadata": {
    "colab_type": "text",
    "id": "3AxMMOnc6S5e"
   },
   "source": [
    "## Gráfico de linhas"
   ]
  },
  {
   "cell_type": "markdown",
   "metadata": {
    "colab_type": "text",
    "id": "bEgplrcU_T1w"
   },
   "source": [
    "Um gráfico de linhas é geralmente usado para apresentar observações coletadas em intervalos regulares.\n",
    "\n",
    "O eixo $x$ representa o intervalo regular (por exemplo, o tempo). O eixo $y$ mostra as observações, ordenadas pelo eixo $x$ e conectadas por uma linha.\n",
    "\n",
    "Os gráficos de linhas são úteis para apresentar dados de séries temporais, bem como quaisquer dados de sequência, onde há uma ordenação entre observações."
   ]
  },
  {
   "cell_type": "code",
   "execution_count": 4,
   "metadata": {
    "colab": {
     "base_uri": "https://localhost:8080/",
     "height": 265
    },
    "colab_type": "code",
    "executionInfo": {
     "elapsed": 876,
     "status": "ok",
     "timestamp": 1551975056934,
     "user": {
      "displayName": "Bruno Laporais Pereira",
      "photoUrl": "https://lh3.googleusercontent.com/-3Pi0I742wJk/AAAAAAAAAAI/AAAAAAAACPU/i2_yyZ3gVRY/s64/photo.jpg",
      "userId": "07218760274576944986"
     },
     "user_tz": 180
    },
    "id": "Zn1O5HRU6ICf",
    "outputId": "66c75e36-f3ef-44ea-a9bd-48986ce08e0e"
   },
   "outputs": [
    {
     "data": {
      "image/png": "[encoded data removed]",
      "text/plain": [
       "<Figure size 432x288 with 1 Axes>"
      ]
     },
     "metadata": {
      "needs_background": "light"
     },
     "output_type": "display_data"
    }
   ],
   "source": [
    "# Exemplo de plot de linha\n",
    "from numpy import sin\n",
    "from matplotlib import pyplot\n",
    "# Intervalo de valores para o eixo x\n",
    "x = [x*0.1 for x in range(100)]\n",
    "# Calcula valores de y (nesse caso, o seno)\n",
    "y = sin(x)\n",
    "\n",
    "# Cria o gráfico\n",
    "plt.plot(x, y)\n",
    "\n",
    "# Mostra o gráfico\n",
    "plt.show()"
   ]
  },
  {
   "cell_type": "markdown",
   "metadata": {
    "colab_type": "text",
    "id": "R3vgRT8f6Xmf"
   },
   "source": [
    "## Plot de barras"
   ]
  },
  {
   "cell_type": "markdown",
   "metadata": {
    "colab_type": "text",
    "id": "ntbNqCxaEGdE"
   },
   "source": [
    "Um gráfico de barras é geralmente usado para apresentar quantidades relativas para várias categorias.\n",
    "\n",
    "O eixo x representa as categorias e são espaçadas uniformemente. O eixo y representa a quantidade de cada categoria e é desenhado como uma barra da linha de base até o nível apropriado no eixo y.\n",
    "\n",
    "Um gráfico de barras pode ser criado chamando a função $bar()$ e passando os nomes das categorias para o eixo $x$ e as quantidades para o eixo $y$.\n",
    "\n",
    "Gráficos de barras podem ser úteis para comparar várias grandezas pontuais ou estimativas."
   ]
  },
  {
   "cell_type": "code",
   "execution_count": 5,
   "metadata": {
    "colab": {
     "base_uri": "https://localhost:8080/",
     "height": 265
    },
    "colab_type": "code",
    "executionInfo": {
     "elapsed": 724,
     "status": "ok",
     "timestamp": 1551975220000,
     "user": {
      "displayName": "Bruno Laporais Pereira",
      "photoUrl": "https://lh3.googleusercontent.com/-3Pi0I742wJk/AAAAAAAAAAI/AAAAAAAACPU/i2_yyZ3gVRY/s64/photo.jpg",
      "userId": "07218760274576944986"
     },
     "user_tz": 180
    },
    "id": "UA-tIHNJ6a8D",
    "outputId": "b5452f74-29ca-46a8-9e55-801bfea24820"
   },
   "outputs": [
    {
     "data": {
      "image/png": "[encoded data removed]",
      "text/plain": [
       "<Figure size 432x288 with 1 Axes>"
      ]
     },
     "metadata": {
      "needs_background": "light"
     },
     "output_type": "display_data"
    }
   ],
   "source": [
    "# Exemplo de plot de barras\n",
    "from random import seed\n",
    "from random import randint\n",
    "from matplotlib import pyplot\n",
    "# Atribui semente para geração de valores aleatórios\n",
    "seed(123456)\n",
    "\n",
    "# Nomes fictícios para categorias (esses serão o nosso eixo x)\n",
    "x = ['red', 'green', 'blue']\n",
    "\n",
    "# Cria valores de resposta y\n",
    "y = [randint(0, 100), randint(0, 100), randint(0, 100)]\n",
    "\n",
    "# Cria gráfico de barras\n",
    "plt.bar(x, y)\n",
    "plt.show()"
   ]
  },
  {
   "cell_type": "markdown",
   "metadata": {
    "colab_type": "text",
    "id": "vlBdUpMp6X1l"
   },
   "source": [
    "## Histograma"
   ]
  },
  {
   "cell_type": "markdown",
   "metadata": {
    "colab_type": "text",
    "id": "sj__m9VzElUE"
   },
   "source": [
    "Um histograma é geralmente usado para resumir a distribuição de uma amostra de dados.\n",
    "\n",
    "O eixo $x$ representa compartimentos discretos ou intervalos para as observações. Por exemplo, observações com valores entre 1 e 10 podem ser divididas em cinco categorias, os valores [1, 2] seriam alocados para o primeiro bin, [3, 4] seriam alocados para o segundo bin, e assim por diante.\n",
    "\n",
    "O eixo $y$ representa a frequência ou a contagem do número de observações no conjunto de dados que pertence a cada bin.\n",
    "\n",
    "Essencialmente, uma amostra de dados é transformada em um gráfico de barras, onde cada categoria no eixo $x$ representa um intervalo de valores de observação."
   ]
  },
  {
   "cell_type": "code",
   "execution_count": 6,
   "metadata": {
    "colab": {
     "base_uri": "https://localhost:8080/",
     "height": 265
    },
    "colab_type": "code",
    "executionInfo": {
     "elapsed": 975,
     "status": "ok",
     "timestamp": 1551978228364,
     "user": {
      "displayName": "Bruno Laporais Pereira",
      "photoUrl": "https://lh3.googleusercontent.com/-3Pi0I742wJk/AAAAAAAAAAI/AAAAAAAACPU/i2_yyZ3gVRY/s64/photo.jpg",
      "userId": "07218760274576944986"
     },
     "user_tz": 180
    },
    "id": "a8p-n89_6X1o",
    "outputId": "5f5b1dba-bd7a-4ba5-9054-6296688350a8"
   },
   "outputs": [
    {
     "data": {
      "image/png": "[encoded data removed]",
      "text/plain": [
       "<Figure size 432x288 with 1 Axes>"
      ]
     },
     "metadata": {
      "needs_background": "light"
     },
     "output_type": "display_data"
    }
   ],
   "source": [
    "# Exemplo de histograma\n",
    "from numpy.random import seed\n",
    "from numpy.random import randn\n",
    "from matplotlib import pyplot\n",
    "seed(123456)\n",
    "\n",
    "# Gera números aleatórios\n",
    "x = randn(1000)\n",
    "\n",
    "# Cria histograma\n",
    "plt.hist(x)\n",
    "plt.show()"
   ]
  },
  {
   "cell_type": "markdown",
   "metadata": {
    "colab_type": "text",
    "id": "4B0yknNT6cgL"
   },
   "source": [
    "## Gráfico de dispersão"
   ]
  },
  {
   "cell_type": "markdown",
   "metadata": {
    "colab_type": "text",
    "id": "W9dEcNXEGRFF"
   },
   "source": [
    "Um gráfico de dispersão (em inglês, scatter plot) é geralmente usado para resumir a relação entre duas amostras de dados emparelhadas.\n",
    "\n",
    "Amostras pareadas de dados significam que duas medidas foram registradas para uma dada observação, como o peso e a altura de uma pessoa.\n",
    "\n",
    "O eixo $x$ representa os valores de observação para a primeira amostra e o eixo $y$ representa os valores de observação para a segunda amostra. Cada ponto no gráfico representa uma única observação."
   ]
  },
  {
   "cell_type": "code",
   "execution_count": 7,
   "metadata": {
    "colab": {
     "base_uri": "https://localhost:8080/",
     "height": 265
    },
    "colab_type": "code",
    "executionInfo": {
     "elapsed": 1048,
     "status": "ok",
     "timestamp": 1551978226664,
     "user": {
      "displayName": "Bruno Laporais Pereira",
      "photoUrl": "https://lh3.googleusercontent.com/-3Pi0I742wJk/AAAAAAAAAAI/AAAAAAAACPU/i2_yyZ3gVRY/s64/photo.jpg",
      "userId": "07218760274576944986"
     },
     "user_tz": 180
    },
    "id": "q-HNIVtW6cgO",
    "outputId": "16c9f3f4-43d5-4bbc-cc57-9fa0af85a455"
   },
   "outputs": [
    {
     "data": {
      "image/png": "[encoded data removed]",
      "text/plain": [
       "<Figure size 432x288 with 1 Axes>"
      ]
     },
     "metadata": {
      "needs_background": "light"
     },
     "output_type": "display_data"
    }
   ],
   "source": [
    "# Exemplo de gráfico de dispersão\n",
    "from numpy.random import seed\n",
    "from numpy.random import randn\n",
    "from matplotlib import pyplot\n",
    "seed(123456)\n",
    "\n",
    "# Cria primeira variável\n",
    "x = 20 * randn(1000) + 100\n",
    "# Cria segunda variável adicionando um ruído na primeira\n",
    "y = x + (10 * randn(1000) + 50)\n",
    "\n",
    "# Cria gráfico de dispersão\n",
    "plt.scatter(x, y)\n",
    "plt.show()"
   ]
  },
  {
   "cell_type": "code",
   "execution_count": null,
   "metadata": {},
   "outputs": [],
   "source": []
  },
  {
   "cell_type": "code",
   "execution_count": null,
   "metadata": {},
   "outputs": [],
   "source": []
  }
 ],
 "metadata": {
  "colab": {
   "collapsed_sections": [],
   "name": "4 - Visualização",
   "provenance": [],
   "version": "0.3.2"
  },
  "kernelspec": {
   "display_name": "Python 3",
   "language": "python",
   "name": "python3"
  },
  "language_info": {
   "codemirror_mode": {
    "name": "ipython",
    "version": 3
   },
   "file_extension": ".py",
   "mimetype": "text/x-python",
   "name": "python",
   "nbconvert_exporter": "python",
   "pygments_lexer": "ipython3",
   "version": "3.7.3"
  }
 },
 "nbformat": 4,
 "nbformat_minor": 1
}
